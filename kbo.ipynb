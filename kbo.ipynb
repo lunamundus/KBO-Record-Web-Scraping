{
 "cells": [
  {
   "cell_type": "code",
   "execution_count": 32,
   "metadata": {},
   "outputs": [],
   "source": [
    "from selenium import webdriver\n",
    "from selenium.webdriver.common.by import By\n",
    "from selenium.webdriver.support.ui import Select\n",
    "\n",
    "import time\n",
    "import pandas as pd"
   ]
  },
  {
   "cell_type": "code",
   "execution_count": 33,
   "metadata": {},
   "outputs": [
    {
     "name": "stderr",
     "output_type": "stream",
     "text": [
      "C:\\Users\\Luna\\AppData\\Local\\Temp\\ipykernel_20128\\2822844571.py:3: DeprecationWarning: executable_path has been deprecated, please pass in a Service object\n",
      "  driver = webdriver.Chrome(\"chrome_driver\\chromedriver.exe\", options=options)\n"
     ]
    }
   ],
   "source": [
    "options = webdriver.ChromeOptions()\n",
    "options.add_experimental_option(\"excludeSwitches\", [\"enable-logging\"])\n",
    "driver = webdriver.Chrome(\"chrome_driver\\chromedriver.exe\", options=options)\n",
    "\n",
    "# 메인 홈페이지로 이동\n",
    "driver.get(\"https://www.koreabaseball.com/\")\n",
    "\n",
    "# 기록 페이지로 이동\n",
    "css_selector = \"#lnb > li:nth-child(3)\"\n",
    "elem = driver.find_element(By.CSS_SELECTOR, css_selector)\n",
    "elem.click()\n",
    "\n",
    "# 기록실 페이지로 이동\n",
    "css_selector = \"#lnb02\"\n",
    "elem = driver.find_element(By.CSS_SELECTOR, css_selector)\n",
    "elem.click()\n",
    "\n",
    "select = Select(driver.find_element(By.NAME, \"ctl00$ctl00$ctl00$cphContents$cphContents$cphContents$ddlTeam$ddlTeam\"))\n",
    "select.select_by_value(value='OB')"
   ]
  },
  {
   "cell_type": "code",
   "execution_count": 35,
   "metadata": {},
   "outputs": [],
   "source": [
    "table = driver.find_element(By.CLASS_NAME, 'tData01').text\n",
    "table_list = table.split('\\n')\n",
    "\n",
    "table_head = table_list.pop(0).split(' ')\n",
    "# print(table_head)\n",
    "\n",
    "record_values = []\n",
    "\n",
    "for item in table_list:\n",
    "    record_values.append(item.split(' '))\n",
    "\n",
    "for item in record_values:\n",
    "    if len(item) == len(table_head):\n",
    "        pass\n",
    "    else:\n",
    "        temp1 = item.pop(6)\n",
    "        temp2 = item.pop(6)\n",
    "        res_temp = temp1 + ' ' + temp2\n",
    "        item.insert(6, res_temp)\n",
    "\n",
    "# print(record_values)"
   ]
  },
  {
   "cell_type": "code",
   "execution_count": 75,
   "metadata": {},
   "outputs": [
    {
     "name": "stdout",
     "output_type": "stream",
     "text": [
      "['1', '2', '3', '4']\n"
     ]
    }
   ],
   "source": [
    "page = driver.find_element(By.CLASS_NAME, 'paging').text.split(' ')\n",
    "print(page)"
   ]
  },
  {
   "cell_type": "code",
   "execution_count": 74,
   "metadata": {},
   "outputs": [],
   "source": [
    "for i in range(0, len(page.text.split(' '))):\n",
    "    id_selector = 'cphContents_cphContents_cphContents_ucPager_btnNo' + str(i+1)\n",
    "    elem = driver.find_element(By.ID, id_selector)\n",
    "    elem.click()\n",
    "    time.sleep(2)"
   ]
  },
  {
   "cell_type": "code",
   "execution_count": 84,
   "metadata": {},
   "outputs": [
    {
     "name": "stdout",
     "output_type": "stream",
     "text": [
      "4\n"
     ]
    }
   ],
   "source": [
    "for i in range(0, 10):\n",
    "    globals()[f's{i}'] = i\n",
    "\n",
    "print(globals()['s4'])"
   ]
  },
  {
   "cell_type": "code",
   "execution_count": null,
   "metadata": {},
   "outputs": [],
   "source": []
  }
 ],
 "metadata": {
  "kernelspec": {
   "display_name": "web_scraping",
   "language": "python",
   "name": "python3"
  },
  "language_info": {
   "codemirror_mode": {
    "name": "ipython",
    "version": 3
   },
   "file_extension": ".py",
   "mimetype": "text/x-python",
   "name": "python",
   "nbconvert_exporter": "python",
   "pygments_lexer": "ipython3",
   "version": "3.10.8"
  },
  "orig_nbformat": 4,
  "vscode": {
   "interpreter": {
    "hash": "f4558827b897afe002b892cda4ed6cd088d9839db2a7725f81370eca73b80953"
   }
  }
 },
 "nbformat": 4,
 "nbformat_minor": 2
}
