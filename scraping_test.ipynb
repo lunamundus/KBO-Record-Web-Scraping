{
 "cells": [
  {
   "cell_type": "code",
   "execution_count": 14,
   "metadata": {},
   "outputs": [],
   "source": [
    "# Import Library\n",
    "from selenium import webdriver\n",
    "from selenium.webdriver.common.by import By\n",
    "from selenium.webdriver.support.ui import Select\n",
    "\n",
    "import time\n",
    "import pandas as pd"
   ]
  },
  {
   "cell_type": "code",
   "execution_count": 15,
   "metadata": {},
   "outputs": [
    {
     "name": "stderr",
     "output_type": "stream",
     "text": [
      "C:\\Users\\Luna\\AppData\\Local\\Temp\\ipykernel_20484\\3091567411.py:3: DeprecationWarning: executable_path has been deprecated, please pass in a Service object\n",
      "  driver = webdriver.Chrome(\"chrome_driver\\chromedriver.exe\", options=options)\n"
     ]
    }
   ],
   "source": [
    "options = webdriver.ChromeOptions()\n",
    "options.add_experimental_option(\"excludeSwitches\", [\"enable-logging\"])\n",
    "driver = webdriver.Chrome(\"chrome_driver\\chromedriver.exe\", options=options)\n",
    "\n",
    "# 메인 홈페이지로 이동\n",
    "driver.get(\"https://www.koreabaseball.com/\")\n",
    "\n",
    "# 기록 페이지로 이동\n",
    "css_selector = \"#lnb > li:nth-child(3)\"\n",
    "elem = driver.find_element(By.CSS_SELECTOR, css_selector)\n",
    "elem.click()\n",
    "\n",
    "# 기록실 페이지로 이동\n",
    "css_selector = \"#lnb02\"\n",
    "elem = driver.find_element(By.CSS_SELECTOR, css_selector)\n",
    "elem.click()\n",
    "\n",
    "# 기록실 옵션(타자, 투수, 수비, 주루)\n",
    "options = ['hitter', 'pitcher', 'defense', 'runner']\n",
    "record_tab_xpath = '//*[@id=\"contents\"]/div[2]/div[2]/ul/*'"
   ]
  },
  {
   "cell_type": "code",
   "execution_count": 16,
   "metadata": {},
   "outputs": [],
   "source": [
    "# KBO 팀 목록\n",
    "# 두산(OB), 롯데, 삼성, 키움(우리), 한화, KIA(해태), KT, LG, NC, SK(SSG)\n",
    "teams = ['OB', 'LT', 'SS', 'WO', 'HH', 'HT', 'KT', 'NC', 'SK']"
   ]
  },
  {
   "cell_type": "code",
   "execution_count": 17,
   "metadata": {},
   "outputs": [],
   "source": [
    "for i in range(0, 4):\n",
    "    # 현재 기록실 옵션 상태\n",
    "    status = options[i]\n",
    "    \n",
    "    # 원하는 기록실 옵션 클릭\n",
    "    record_tab = driver.find_elements(By.XPATH, record_tab_xpath)\n",
    "    record_tab[i].click()\n",
    "    \n",
    "    time.sleep(3)\n",
    "\n",
    "    table_head = driver.find_element(By.CLASS_NAME, 'tData01').text.split('\\n').pop(0).split(' ')\n",
    "    table_value = []\n",
    "\n",
    "    # 팀 선택\n",
    "    for team in teams:\n",
    "        select = Select(driver.find_element(By.NAME, \"ctl00$ctl00$ctl00$cphContents$cphContents$cphContents$ddlTeam$ddlTeam\"))\n",
    "        select.select_by_value(value=team)\n",
    "\n",
    "        time.sleep(3)\n",
    "\n",
    "        ## 페이지 이동 및 데이터 가져오기 & 가공\n",
    "        pages = driver.find_element(By.CLASS_NAME, 'paging').text.split(' ')\n",
    "        if len(pages) == 1:\n",
    "            id_selector = 'cphContents_cphContents_cphContents_ucPager_btnNo' + str(page)\n",
    "            elem = driver.find_element(By.ID, id_selector)\n",
    "            elem.click()\n",
    "\n",
    "            time.sleep(3)\n",
    "\n",
    "            temp = driver.find_element(By.CLASS_NAME, 'tData01').text.split('\\n')\n",
    "            del temp[0]\n",
    "            table_value.extend(temp)\n",
    "        else:\n",
    "            for page in range(1, len(pages)+1):\n",
    "                id_selector = 'cphContents_cphContents_cphContents_ucPager_btnNo' + str(page)\n",
    "                elem = driver.find_element(By.ID, id_selector)\n",
    "                elem.click()\n",
    "\n",
    "                time.sleep(3)\n",
    "\n",
    "                temp = driver.find_element(By.CLASS_NAME, 'tData01').text.split('\\n')\n",
    "                del temp[0]\n",
    "                table_value.extend(temp)\n",
    "\n",
    "    # 선수 기록 데이터 가공\n",
    "    record_values = []\n",
    "\n",
    "    for item in table_value:\n",
    "        record_values.append(item.split(' '))\n",
    "    \n",
    "    if status == 'pitcher':\n",
    "        for item in record_values:\n",
    "            if len(item) == len(table_head):\n",
    "                pass\n",
    "            else:\n",
    "                temp1 = item.pop(10)\n",
    "                temp2 = item.pop(10)\n",
    "                res_temp = temp1 + ' ' + temp2\n",
    "                item.insert(10, res_temp)\n",
    "\n",
    "    if status == 'defense':\n",
    "        for item in record_values:\n",
    "            if len(item) == len(table_head):\n",
    "                pass\n",
    "            else:\n",
    "                temp1 = item.pop(6)\n",
    "                temp2 = item.pop(6)\n",
    "                res_temp = temp1 + ' ' + temp2\n",
    "                item.insert(6, res_temp)\n",
    "    \n",
    "    # 데이터 -> 데이터 프레임 형태로 변환\n",
    "    globals()[f'{status}_dataframe'] = pd.DataFrame(columns=table_head)\n",
    "    \n",
    "    for j in range(0, len(record_values)):\n",
    "        globals()[f'{status}_dataframe'].loc[j] = record_values[j]\n",
    "\n",
    "    time.sleep(2)"
   ]
  },
  {
   "cell_type": "code",
   "execution_count": 18,
   "metadata": {},
   "outputs": [],
   "source": [
    "# 엑셀 파일로 저장\n",
    "with pd.ExcelWriter('test.xlsx') as writer:\n",
    "    for status in options:\n",
    "        globals()[f'{status}_dataframe'].to_excel(writer, sheet_name=status, index=False)\n",
    "\n",
    "# 창 닫기\n",
    "driver.close()"
   ]
  }
 ],
 "metadata": {
  "kernelspec": {
   "display_name": "web_scraping",
   "language": "python",
   "name": "python3"
  },
  "language_info": {
   "codemirror_mode": {
    "name": "ipython",
    "version": 3
   },
   "file_extension": ".py",
   "mimetype": "text/x-python",
   "name": "python",
   "nbconvert_exporter": "python",
   "pygments_lexer": "ipython3",
   "version": "3.10.8 | packaged by conda-forge | (main, Nov 24 2022, 14:07:00) [MSC v.1916 64 bit (AMD64)]"
  },
  "orig_nbformat": 4,
  "vscode": {
   "interpreter": {
    "hash": "f4558827b897afe002b892cda4ed6cd088d9839db2a7725f81370eca73b80953"
   }
  }
 },
 "nbformat": 4,
 "nbformat_minor": 2
}
