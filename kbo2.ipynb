{
 "cells": [
  {
   "cell_type": "code",
   "execution_count": 18,
   "metadata": {},
   "outputs": [],
   "source": [
    "from selenium import webdriver\n",
    "from selenium.webdriver.common.by import By\n",
    "from selenium.webdriver.support.ui import Select\n",
    "\n",
    "import time\n",
    "import pandas as pd"
   ]
  },
  {
   "cell_type": "code",
   "execution_count": 19,
   "metadata": {},
   "outputs": [
    {
     "name": "stderr",
     "output_type": "stream",
     "text": [
      "C:\\Users\\Luna\\AppData\\Local\\Temp\\ipykernel_18920\\1968520446.py:3: DeprecationWarning: executable_path has been deprecated, please pass in a Service object\n",
      "  driver = webdriver.Chrome(\"chrome_driver\\chromedriver.exe\", options=options)\n"
     ]
    }
   ],
   "source": [
    "options = webdriver.ChromeOptions()\n",
    "options.add_experimental_option(\"excludeSwitches\", [\"enable-logging\"])\n",
    "driver = webdriver.Chrome(\"chrome_driver\\chromedriver.exe\", options=options)\n",
    "\n",
    "# 메인 홈페이지로 이동\n",
    "driver.get(\"https://www.koreabaseball.com/\")\n",
    "\n",
    "# 기록 페이지로 이동\n",
    "css_selector = \"#lnb > li:nth-child(3)\"\n",
    "elem = driver.find_element(By.CSS_SELECTOR, css_selector)\n",
    "elem.click()\n",
    "\n",
    "# 기록실 페이지로 이동\n",
    "css_selector = \"#lnb02\"\n",
    "elem = driver.find_element(By.CSS_SELECTOR, css_selector)\n",
    "elem.click()"
   ]
  },
  {
   "cell_type": "code",
   "execution_count": 20,
   "metadata": {},
   "outputs": [
    {
     "name": "stdout",
     "output_type": "stream",
     "text": [
      "Empty DataFrame\n",
      "Columns: [순위, 선수명, 팀명, AVG, G, PA, AB, R, H, 2B, 3B, HR, TB, RBI, SAC, SF]\n",
      "Index: []\n",
      "Empty DataFrame\n",
      "Columns: [순위, 선수명, 팀명, ERA, G, W, L, SV, HLD, WPCT, IP, H, HR, BB, HBP, SO, R, ER, WHIP]\n",
      "Index: []\n",
      "Empty DataFrame\n",
      "Columns: [순위, 선수명, 팀명, POS, G, GS, IP, E, PKO, PO, A, DP, FPCT, PB, SB, CS, CS%]\n",
      "Index: []\n",
      "Empty DataFrame\n",
      "Columns: [순위, 선수명, 팀명, G, SBA, SB, CS, SB%, OOB, PKO]\n",
      "Index: []\n"
     ]
    }
   ],
   "source": [
    "options = ['hitter', 'pitcher', 'defense', 'runner']\n",
    "record_tab_xpath = '//*[@id=\"contents\"]/div[2]/div[2]/ul/*'\n",
    "for i in range(0, 4):\n",
    "    status = options[i]\n",
    "    \n",
    "    record_tab = driver.find_elements(By.XPATH, record_tab_xpath)\n",
    "    record_tab[i].click()\n",
    "    \n",
    "    time.sleep(3)\n",
    "\n",
    "    select = Select(driver.find_element(By.NAME, \"ctl00$ctl00$ctl00$cphContents$cphContents$cphContents$ddlTeam$ddlTeam\"))\n",
    "    select.select_by_value(value='OB')\n",
    "\n",
    "    time.sleep(3)\n",
    "\n",
    "    table_value = driver.find_element(By.CLASS_NAME, 'tData01').text.split('\\n')\n",
    "    table_head = table_value.pop(0).split(' ')\n",
    "    \n",
    "    # 페이지 이동\n",
    "    pages = driver.find_element(By.CLASS_NAME, 'paging').text.split(' ')\n",
    "    if len(pages) == 1:\n",
    "        pass\n",
    "    else:\n",
    "        for page in range(1, len(pages)):\n",
    "            id_selector = 'cphContents_cphContents_cphContents_ucPager_btnNo' + str(page+1)\n",
    "            elem = driver.find_element(By.ID, id_selector)\n",
    "            elem.click()\n",
    "\n",
    "            time.sleep(3)\n",
    "\n",
    "            temp = driver.find_element(By.CLASS_NAME, 'tData01').text.split('\\n')\n",
    "            del temp[0]\n",
    "            table_value.extend(temp)\n",
    "\n",
    "    record_values = []\n",
    "\n",
    "    for item in table_value:\n",
    "        record_values.append(item.split(' '))\n",
    "    \n",
    "    if status == 'pitcher':\n",
    "        for item in record_values:\n",
    "            if len(item) == len(table_head):\n",
    "                pass\n",
    "            else:\n",
    "                temp1 = item.pop(10)\n",
    "                temp2 = item.pop(10)\n",
    "                res_temp = temp1 + ' ' + temp2\n",
    "                item.insert(10, res_temp)\n",
    "\n",
    "    if status == 'defense':\n",
    "        for item in record_values:\n",
    "            if len(item) == len(table_head):\n",
    "                pass\n",
    "            else:\n",
    "                temp1 = item.pop(6)\n",
    "                temp2 = item.pop(6)\n",
    "                res_temp = temp1 + ' ' + temp2\n",
    "                item.insert(6, res_temp)\n",
    "    \n",
    "    globals()[f'{status}_dataframe'] = pd.DataFrame(columns=table_head)\n",
    "    \n",
    "    for j in range(0, len(record_values)):\n",
    "        globals()[f'{status}_dataframe'].loc[j] = record_values[j]\n",
    "\n",
    "    time.sleep(2)\n",
    "\n",
    "with pd.ExcelWriter('test.xlsx') as writer:\n",
    "    for status in options:\n",
    "        globals()[f'{status}_dataframe'].to_excel(writer, sheet_name=status, index=False)"
   ]
  }
 ],
 "metadata": {
  "kernelspec": {
   "display_name": "web_scraping",
   "language": "python",
   "name": "python3"
  },
  "language_info": {
   "codemirror_mode": {
    "name": "ipython",
    "version": 3
   },
   "file_extension": ".py",
   "mimetype": "text/x-python",
   "name": "python",
   "nbconvert_exporter": "python",
   "pygments_lexer": "ipython3",
   "version": "3.10.8"
  },
  "orig_nbformat": 4,
  "vscode": {
   "interpreter": {
    "hash": "f4558827b897afe002b892cda4ed6cd088d9839db2a7725f81370eca73b80953"
   }
  }
 },
 "nbformat": 4,
 "nbformat_minor": 2
}
