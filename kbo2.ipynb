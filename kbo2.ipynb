{
 "cells": [
  {
   "cell_type": "code",
   "execution_count": 37,
   "metadata": {},
   "outputs": [],
   "source": [
    "from selenium import webdriver\n",
    "from selenium.webdriver.common.by import By\n",
    "from selenium.webdriver.support.ui import Select\n",
    "\n",
    "import time\n",
    "import pandas as pd"
   ]
  },
  {
   "cell_type": "code",
   "execution_count": 38,
   "metadata": {},
   "outputs": [
    {
     "name": "stderr",
     "output_type": "stream",
     "text": [
      "C:\\Users\\Luna\\AppData\\Local\\Temp\\ipykernel_16716\\1968520446.py:3: DeprecationWarning: executable_path has been deprecated, please pass in a Service object\n",
      "  driver = webdriver.Chrome(\"chrome_driver\\chromedriver.exe\", options=options)\n"
     ]
    }
   ],
   "source": [
    "options = webdriver.ChromeOptions()\n",
    "options.add_experimental_option(\"excludeSwitches\", [\"enable-logging\"])\n",
    "driver = webdriver.Chrome(\"chrome_driver\\chromedriver.exe\", options=options)\n",
    "\n",
    "# 메인 홈페이지로 이동\n",
    "driver.get(\"https://www.koreabaseball.com/\")\n",
    "\n",
    "# 기록 페이지로 이동\n",
    "css_selector = \"#lnb > li:nth-child(3)\"\n",
    "elem = driver.find_element(By.CSS_SELECTOR, css_selector)\n",
    "elem.click()\n",
    "\n",
    "# 기록실 페이지로 이동\n",
    "css_selector = \"#lnb02\"\n",
    "elem = driver.find_element(By.CSS_SELECTOR, css_selector)\n",
    "elem.click()"
   ]
  },
  {
   "cell_type": "code",
   "execution_count": 39,
   "metadata": {},
   "outputs": [],
   "source": [
    "select = Select(driver.find_element(By.NAME, \"ctl00$ctl00$ctl00$cphContents$cphContents$cphContents$ddlTeam$ddlTeam\"))\n",
    "select.select_by_value(value='OB')\n",
    "\n",
    "time.sleep(3)"
   ]
  },
  {
   "cell_type": "code",
   "execution_count": 40,
   "metadata": {},
   "outputs": [],
   "source": [
    "thead_xpath = '//*[@id=\"cphContents_cphContents_cphContents_udpContent\"]/div[3]/table/thead/tr'\n",
    "tbody_xapth = '//*[@id=\"cphContents_cphContents_cphContents_udpContent\"]/div[3]/table/tbody'\n",
    "\n",
    "table_head = driver.find_element(By.XPATH, thead_xpath).text.split(' ')\n",
    "table_value = driver.find_element(By.XPATH, tbody_xapth).text.split('\\n')"
   ]
  },
  {
   "cell_type": "code",
   "execution_count": 41,
   "metadata": {},
   "outputs": [],
   "source": [
    "# 2페이지 이동\n",
    "id_selector = 'cphContents_cphContents_cphContents_ucPager_btnNo2'\n",
    "elem = driver.find_element(By.ID, id_selector)\n",
    "elem.click()\n",
    "\n",
    "time.sleep(3)"
   ]
  },
  {
   "cell_type": "code",
   "execution_count": 42,
   "metadata": {},
   "outputs": [],
   "source": [
    "temp = driver.find_element(By.XPATH, tbody_xapth).text.split('\\n')\n",
    "table_value.extend(temp)"
   ]
  },
  {
   "cell_type": "code",
   "execution_count": 43,
   "metadata": {},
   "outputs": [],
   "source": [
    "record_values = []\n",
    "\n",
    "for item in table_value:\n",
    "    record_values.append(item.split(' '))\n",
    "\n",
    "doosan_dataframe = pd.DataFrame(columns=table_head)\n",
    "for i in range(0, len(record_values)):\n",
    "    doosan_dataframe.loc[i] = record_values[i]\n",
    "\n",
    "doosan_dataframe.to_excel('test.xlsx', index=False)"
   ]
  }
 ],
 "metadata": {
  "kernelspec": {
   "display_name": "web_scraping",
   "language": "python",
   "name": "python3"
  },
  "language_info": {
   "codemirror_mode": {
    "name": "ipython",
    "version": 3
   },
   "file_extension": ".py",
   "mimetype": "text/x-python",
   "name": "python",
   "nbconvert_exporter": "python",
   "pygments_lexer": "ipython3",
   "version": "3.10.8"
  },
  "orig_nbformat": 4,
  "vscode": {
   "interpreter": {
    "hash": "f4558827b897afe002b892cda4ed6cd088d9839db2a7725f81370eca73b80953"
   }
  }
 },
 "nbformat": 4,
 "nbformat_minor": 2
}
